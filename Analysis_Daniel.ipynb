{
 "cells": [
  {
   "cell_type": "code",
   "execution_count": null,
   "metadata": {},
   "outputs": [],
   "source": [
    "# Calculate distance and duration between two places using google distance matrix API in Python"
   ]
  },
  {
   "cell_type": "code",
   "execution_count": null,
   "metadata": {},
   "outputs": [],
   "source": [
    "# importing required libraries \n",
    "import requests, json \n",
    "  \n",
    "# enter your api key here \n",
    "api_key ='Your_api_key'\n",
    "  \n",
    "# Take source as input \n",
    "source = input() \n",
    "  \n",
    "# Take destination as input \n",
    "dest = input() \n",
    "  \n",
    "# url variable store url  \n",
    "url ='https://maps.googleapis.com/maps/api/distancematrix/json?'\n",
    "  \n",
    "# Get method of requests module \n",
    "# return response object \n",
    "r = requests.get(url + 'origins = ' + source +\n",
    "                   '&destinations = ' + dest +\n",
    "                   '&key = ' + api_key) \n",
    "                     \n",
    "# json method of response object \n",
    "# return json format result \n",
    "x = r.json() \n",
    "  \n",
    "# by default driving mode considered \n",
    "  \n",
    "# print the value of x \n",
    "print(x) "
   ]
  },
  {
   "cell_type": "code",
   "execution_count": null,
   "metadata": {},
   "outputs": [],
   "source": [
    "# Calculate geographic coordinates of places using google geocoding API"
   ]
  },
  {
   "cell_type": "code",
   "execution_count": null,
   "metadata": {},
   "outputs": [],
   "source": [
    "# importing required modules \n",
    "import requests, json \n",
    "  \n",
    "# enter your api key here \n",
    "api_key = 'Your_api_key'\n",
    "  \n",
    "# url variable store url \n",
    "url = 'https://maps.googleapis.com/maps/api/geocode/json?'\n",
    "  \n",
    "# take place as input \n",
    "place = input() \n",
    "  \n",
    "# get method of requests module \n",
    "# return response object \n",
    "res_ob = requests.get(url + 'address =' +\n",
    "                place + '&key =' + api_key) \n",
    "  \n",
    "# json method of response object \n",
    "# convert json format data  \n",
    "# into python format data. \n",
    "x = res_ob.json() \n",
    "  \n",
    "# print the vale of x \n",
    "print(x) "
   ]
  },
  {
   "cell_type": "code",
   "execution_count": null,
   "metadata": {},
   "outputs": [],
   "source": [
    "# Calculate Distance between two places using Geopy"
   ]
  },
  {
   "cell_type": "code",
   "execution_count": null,
   "metadata": {},
   "outputs": [],
   "source": [
    "# Importing the geodesic module from the library \n",
    "from geopy.distance import geodesic \n",
    "  \n",
    "# Loading the lat-long data for Kolkata & Delhi \n",
    "kolkata = (22.5726, 88.3639) \n",
    "delhi = (28.7041, 77.1025) \n",
    "  \n",
    "# Print the distance calculated in km \n",
    "print(geodesic(kolkata, delhi).km) "
   ]
  }
 ],
 "metadata": {
  "kernelspec": {
   "display_name": "Python 3",
   "language": "python",
   "name": "python3"
  },
  "language_info": {
   "codemirror_mode": {
    "name": "ipython",
    "version": 3
   },
   "file_extension": ".py",
   "mimetype": "text/x-python",
   "name": "python",
   "nbconvert_exporter": "python",
   "pygments_lexer": "ipython3",
   "version": "3.7.6"
  }
 },
 "nbformat": 4,
 "nbformat_minor": 4
}
